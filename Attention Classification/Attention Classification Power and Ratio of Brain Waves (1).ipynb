{
 "cells": [
  {
   "cell_type": "code",
   "execution_count": 1,
   "metadata": {},
   "outputs": [],
   "source": [
    "import pandas as pd\n",
    "from sklearn import svm\n",
    "from sklearn.ensemble import RandomForestClassifier\n",
    "from sklearn.linear_model import LogisticRegression\n",
    "from sklearn.naive_bayes import GaussianNB\n",
    "from sklearn.naive_bayes import MultinomialNB\n",
    "from sklearn.tree import DecisionTreeClassifier\n",
    "from sklearn.cluster import KMeans\n",
    "import seaborn as sns"
   ]
  },
  {
   "cell_type": "code",
   "execution_count": 2,
   "metadata": {},
   "outputs": [],
   "source": [
    "#Importing File into Pandas Dataframe\n",
    "\n",
    "df=pd.read_csv(\"Subject1_Brain_Frequencies_Attention_Wavelet.csv\")\n",
    "\n",
    "#df=pd.read_csv(\"Subject3_Brain_Frequencies_Attention_Wavelet.csv\") for Subject 1\n",
    "#df=pd.read_csv(\"Subject2_Brain_Frequencies_Attention_Wavelet.csv\") for Subject 2\n",
    "#df=pd.read_csv(\"Subject3_Brain_Frequencies_Attention_Wavelet.csv\") for Subject 3\n",
    "\n",
    "df=df.dropna() #Dropping NaN Values"
   ]
  },
  {
   "cell_type": "code",
   "execution_count": 3,
   "metadata": {},
   "outputs": [],
   "source": [
    "#Attention values will be divided into 3 stages. \n",
    "#1st Stage: Low Attention (0 to 33.33....) denoted by 1\n",
    "#2nd Stage: Mid Attention (33.33 to 66.66...) denoted by 2\n",
    "#3rd Stage: High Attention (66.66 to 100) denoted by 3\n",
    "\n",
    "Max=df['Attention'].max()\n",
    "Min=df['Attention'].min()\n",
    "Z=(Max-Min)/3\n",
    "\n",
    "df.loc[df['Attention'] < Z,'Attention_lvl'] = 0\n",
    "df.loc[(df['Attention'] > Z) & (df['Attention'] < Z*2), 'Attention_lvl'] = 1\n",
    "df.loc[df['Attention'] >Z*2,'Attention_lvl'] = 2"
   ]
  },
  {
   "cell_type": "code",
   "execution_count": 4,
   "metadata": {},
   "outputs": [
    {
     "data": {
      "image/png": "[encoded data removed]",
      "text/plain": [
       "<Figure size 432x288 with 1 Axes>"
      ]
     },
     "metadata": {
      "needs_background": "light"
     },
     "output_type": "display_data"
    }
   ],
   "source": [
    "#Power of Brain Waves and Boxplots\n",
    "\n",
    "df['Delta']=df.Delta**2\n",
    "df['Theta']=df.Theta**2\n",
    "df['Alpha']=df.Alpha**2\n",
    "df['Beta']=df.Beta**2\n",
    "df['Gamma']=df.Gamma**2\n",
    "\n",
    "boxplot = df.boxplot(column=['Delta', 'Theta', 'Alpha','Beta','Gamma'])\n"
   ]
  },
  {
   "cell_type": "code",
   "execution_count": null,
   "metadata": {},
   "outputs": [],
   "source": [
    "\n"
   ]
  },
  {
   "cell_type": "code",
   "execution_count": 5,
   "metadata": {},
   "outputs": [
    {
     "data": {
      "text/html": [
       "<div>\n",
       "<style scoped>\n",
       "    .dataframe tbody tr th:only-of-type {\n",
       "        vertical-align: middle;\n",
       "    }\n",
       "\n",
       "    .dataframe tbody tr th {\n",
       "        vertical-align: top;\n",
       "    }\n",
       "\n",
       "    .dataframe thead th {\n",
       "        text-align: right;\n",
       "    }\n",
       "</style>\n",
       "<table border=\"1\" class=\"dataframe\">\n",
       "  <thead>\n",
       "    <tr style=\"text-align: right;\">\n",
       "      <th></th>\n",
       "      <th>Delta</th>\n",
       "      <th>Theta</th>\n",
       "      <th>Alpha</th>\n",
       "      <th>Beta</th>\n",
       "      <th>Gamma</th>\n",
       "      <th>Attention</th>\n",
       "      <th>Attention_lvl</th>\n",
       "    </tr>\n",
       "  </thead>\n",
       "  <tbody>\n",
       "    <tr>\n",
       "      <th>0</th>\n",
       "      <td>2260.572358</td>\n",
       "      <td>8.498578</td>\n",
       "      <td>25.676086</td>\n",
       "      <td>43.011185</td>\n",
       "      <td>79.659907</td>\n",
       "      <td>56.0</td>\n",
       "      <td>1.0</td>\n",
       "    </tr>\n",
       "    <tr>\n",
       "      <th>1</th>\n",
       "      <td>2259.020375</td>\n",
       "      <td>8.412421</td>\n",
       "      <td>27.965568</td>\n",
       "      <td>44.987786</td>\n",
       "      <td>76.833152</td>\n",
       "      <td>40.0</td>\n",
       "      <td>1.0</td>\n",
       "    </tr>\n",
       "    <tr>\n",
       "      <th>2</th>\n",
       "      <td>2257.399797</td>\n",
       "      <td>8.321077</td>\n",
       "      <td>30.310837</td>\n",
       "      <td>46.888508</td>\n",
       "      <td>69.503169</td>\n",
       "      <td>47.0</td>\n",
       "      <td>1.0</td>\n",
       "    </tr>\n",
       "    <tr>\n",
       "      <th>3</th>\n",
       "      <td>2255.709821</td>\n",
       "      <td>8.224557</td>\n",
       "      <td>32.700023</td>\n",
       "      <td>48.697392</td>\n",
       "      <td>58.404279</td>\n",
       "      <td>47.0</td>\n",
       "      <td>1.0</td>\n",
       "    </tr>\n",
       "    <tr>\n",
       "      <th>4</th>\n",
       "      <td>2253.949414</td>\n",
       "      <td>8.122848</td>\n",
       "      <td>35.118107</td>\n",
       "      <td>50.384597</td>\n",
       "      <td>45.096948</td>\n",
       "      <td>44.0</td>\n",
       "      <td>1.0</td>\n",
       "    </tr>\n",
       "    <tr>\n",
       "      <th>...</th>\n",
       "      <td>...</td>\n",
       "      <td>...</td>\n",
       "      <td>...</td>\n",
       "      <td>...</td>\n",
       "      <td>...</td>\n",
       "      <td>...</td>\n",
       "      <td>...</td>\n",
       "    </tr>\n",
       "    <tr>\n",
       "      <th>1195</th>\n",
       "      <td>3.197945</td>\n",
       "      <td>5.114631</td>\n",
       "      <td>70.544554</td>\n",
       "      <td>576.828336</td>\n",
       "      <td>18.315703</td>\n",
       "      <td>26.0</td>\n",
       "      <td>0.0</td>\n",
       "    </tr>\n",
       "    <tr>\n",
       "      <th>1196</th>\n",
       "      <td>4.164081</td>\n",
       "      <td>3.511845</td>\n",
       "      <td>60.476344</td>\n",
       "      <td>681.155311</td>\n",
       "      <td>11.895605</td>\n",
       "      <td>38.0</td>\n",
       "      <td>1.0</td>\n",
       "    </tr>\n",
       "    <tr>\n",
       "      <th>1197</th>\n",
       "      <td>5.258333</td>\n",
       "      <td>2.190727</td>\n",
       "      <td>50.997287</td>\n",
       "      <td>785.883689</td>\n",
       "      <td>6.769513</td>\n",
       "      <td>29.0</td>\n",
       "      <td>0.0</td>\n",
       "    </tr>\n",
       "    <tr>\n",
       "      <th>1198</th>\n",
       "      <td>6.481047</td>\n",
       "      <td>1.166702</td>\n",
       "      <td>42.192167</td>\n",
       "      <td>888.130271</td>\n",
       "      <td>3.150847</td>\n",
       "      <td>41.0</td>\n",
       "      <td>1.0</td>\n",
       "    </tr>\n",
       "    <tr>\n",
       "      <th>1199</th>\n",
       "      <td>7.832529</td>\n",
       "      <td>0.454610</td>\n",
       "      <td>34.120483</td>\n",
       "      <td>984.921089</td>\n",
       "      <td>0.940799</td>\n",
       "      <td>48.0</td>\n",
       "      <td>1.0</td>\n",
       "    </tr>\n",
       "  </tbody>\n",
       "</table>\n",
       "<p>1200 rows × 7 columns</p>\n",
       "</div>"
      ],
      "text/plain": [
       "            Delta     Theta      Alpha        Beta      Gamma  Attention  \\\n",
       "0     2260.572358  8.498578  25.676086   43.011185  79.659907       56.0   \n",
       "1     2259.020375  8.412421  27.965568   44.987786  76.833152       40.0   \n",
       "2     2257.399797  8.321077  30.310837   46.888508  69.503169       47.0   \n",
       "3     2255.709821  8.224557  32.700023   48.697392  58.404279       47.0   \n",
       "4     2253.949414  8.122848  35.118107   50.384597  45.096948       44.0   \n",
       "...           ...       ...        ...         ...        ...        ...   \n",
       "1195     3.197945  5.114631  70.544554  576.828336  18.315703       26.0   \n",
       "1196     4.164081  3.511845  60.476344  681.155311  11.895605       38.0   \n",
       "1197     5.258333  2.190727  50.997287  785.883689   6.769513       29.0   \n",
       "1198     6.481047  1.166702  42.192167  888.130271   3.150847       41.0   \n",
       "1199     7.832529  0.454610  34.120483  984.921089   0.940799       48.0   \n",
       "\n",
       "      Attention_lvl  \n",
       "0               1.0  \n",
       "1               1.0  \n",
       "2               1.0  \n",
       "3               1.0  \n",
       "4               1.0  \n",
       "...             ...  \n",
       "1195            0.0  \n",
       "1196            1.0  \n",
       "1197            0.0  \n",
       "1198            1.0  \n",
       "1199            1.0  \n",
       "\n",
       "[1200 rows x 7 columns]"
      ]
     },
     "execution_count": 5,
     "metadata": {},
     "output_type": "execute_result"
    }
   ],
   "source": [
    "df"
   ]
  },
  {
   "cell_type": "code",
   "execution_count": 6,
   "metadata": {},
   "outputs": [],
   "source": [
    "#Selecting Input and Output for Train_Test\n",
    "\n",
    "X=df.drop(['Attention','Attention_lvl'],axis='columns')\n",
    "y=df.Attention_lvl"
   ]
  },
  {
   "cell_type": "code",
   "execution_count": 7,
   "metadata": {},
   "outputs": [],
   "source": [
    "#Importing Machine Learning Models\n",
    "\n",
    "from sklearn.svm import SVC\n",
    "model2 = SVC()\n",
    "\n",
    "from sklearn.linear_model import LogisticRegression\n",
    "model3=LogisticRegression()\n",
    "\n",
    "from sklearn.ensemble import RandomForestClassifier\n",
    "model4 = RandomForestClassifier(n_estimators=50)"
   ]
  },
  {
   "cell_type": "code",
   "execution_count": 8,
   "metadata": {},
   "outputs": [],
   "source": [
    "#Splitting the Dataset into 70% TRAIN AND 30% TEST\n",
    "\n",
    "from sklearn.model_selection import train_test_split\n",
    "X_train,X_test,y_train,y_test=train_test_split(X,y,test_size=0.3)"
   ]
  },
  {
   "cell_type": "code",
   "execution_count": 9,
   "metadata": {},
   "outputs": [
    {
     "data": {
      "text/plain": [
       "0.5944444444444444"
      ]
     },
     "execution_count": 9,
     "metadata": {},
     "output_type": "execute_result"
    }
   ],
   "source": [
    "#SVM Classifier\n",
    "model2.fit(X_train,y_train)\n",
    "model2.score(X_test,y_test)"
   ]
  },
  {
   "cell_type": "code",
   "execution_count": 10,
   "metadata": {},
   "outputs": [
    {
     "name": "stderr",
     "output_type": "stream",
     "text": [
      "C:\\Users\\RAIAN\\anaconda3\\lib\\site-packages\\sklearn\\linear_model\\_logistic.py:762: ConvergenceWarning: lbfgs failed to converge (status=1):\n",
      "STOP: TOTAL NO. of ITERATIONS REACHED LIMIT.\n",
      "\n",
      "Increase the number of iterations (max_iter) or scale the data as shown in:\n",
      "    https://scikit-learn.org/stable/modules/preprocessing.html\n",
      "Please also refer to the documentation for alternative solver options:\n",
      "    https://scikit-learn.org/stable/modules/linear_model.html#logistic-regression\n",
      "  n_iter_i = _check_optimize_result(\n"
     ]
    },
    {
     "data": {
      "text/plain": [
       "0.5944444444444444"
      ]
     },
     "execution_count": 10,
     "metadata": {},
     "output_type": "execute_result"
    }
   ],
   "source": [
    "#Logistic Regression\n",
    "model3.fit(X_train,y_train)\n",
    "model3.score(X_test,y_test)"
   ]
  },
  {
   "cell_type": "code",
   "execution_count": 11,
   "metadata": {},
   "outputs": [
    {
     "data": {
      "text/plain": [
       "0.7638888888888888"
      ]
     },
     "execution_count": 11,
     "metadata": {},
     "output_type": "execute_result"
    }
   ],
   "source": [
    "#Random Forest Classifier\n",
    "model4.fit(X_train,y_train)\n",
    "model4.score(X_test,y_test)"
   ]
  },
  {
   "cell_type": "code",
   "execution_count": 12,
   "metadata": {},
   "outputs": [],
   "source": [
    "#Calculating Brain Wave Power Ratios\n",
    "\n",
    "df['TBR']=df.Theta/df.Beta\n",
    "df['TAR']=df.Theta/df.Alpha\n",
    "df['DAR']=df.Delta/df.Alpha\n",
    "df['ABR']=df.Alpha/df.Beta\n",
    "df['DTABR']=(df.Delta+df.Theta)/(df.Alpha+df.Beta)"
   ]
  },
  {
   "cell_type": "code",
   "execution_count": 13,
   "metadata": {},
   "outputs": [
    {
     "data": {
      "text/html": [
       "<div>\n",
       "<style scoped>\n",
       "    .dataframe tbody tr th:only-of-type {\n",
       "        vertical-align: middle;\n",
       "    }\n",
       "\n",
       "    .dataframe tbody tr th {\n",
       "        vertical-align: top;\n",
       "    }\n",
       "\n",
       "    .dataframe thead th {\n",
       "        text-align: right;\n",
       "    }\n",
       "</style>\n",
       "<table border=\"1\" class=\"dataframe\">\n",
       "  <thead>\n",
       "    <tr style=\"text-align: right;\">\n",
       "      <th></th>\n",
       "      <th>TBR</th>\n",
       "      <th>TAR</th>\n",
       "      <th>DAR</th>\n",
       "      <th>ABR</th>\n",
       "    </tr>\n",
       "  </thead>\n",
       "  <tbody>\n",
       "    <tr>\n",
       "      <th>0</th>\n",
       "      <td>0.197590</td>\n",
       "      <td>0.330992</td>\n",
       "      <td>88.041939</td>\n",
       "      <td>0.596963</td>\n",
       "    </tr>\n",
       "    <tr>\n",
       "      <th>1</th>\n",
       "      <td>0.186993</td>\n",
       "      <td>0.300814</td>\n",
       "      <td>80.778634</td>\n",
       "      <td>0.621626</td>\n",
       "    </tr>\n",
       "    <tr>\n",
       "      <th>2</th>\n",
       "      <td>0.177465</td>\n",
       "      <td>0.274525</td>\n",
       "      <td>74.475007</td>\n",
       "      <td>0.646445</td>\n",
       "    </tr>\n",
       "    <tr>\n",
       "      <th>3</th>\n",
       "      <td>0.168891</td>\n",
       "      <td>0.251515</td>\n",
       "      <td>68.981903</td>\n",
       "      <td>0.671494</td>\n",
       "    </tr>\n",
       "    <tr>\n",
       "      <th>4</th>\n",
       "      <td>0.161217</td>\n",
       "      <td>0.231301</td>\n",
       "      <td>64.181974</td>\n",
       "      <td>0.697001</td>\n",
       "    </tr>\n",
       "    <tr>\n",
       "      <th>...</th>\n",
       "      <td>...</td>\n",
       "      <td>...</td>\n",
       "      <td>...</td>\n",
       "      <td>...</td>\n",
       "    </tr>\n",
       "    <tr>\n",
       "      <th>1195</th>\n",
       "      <td>0.008867</td>\n",
       "      <td>0.072502</td>\n",
       "      <td>0.045332</td>\n",
       "      <td>0.122297</td>\n",
       "    </tr>\n",
       "    <tr>\n",
       "      <th>1196</th>\n",
       "      <td>0.005156</td>\n",
       "      <td>0.058070</td>\n",
       "      <td>0.068855</td>\n",
       "      <td>0.088785</td>\n",
       "    </tr>\n",
       "    <tr>\n",
       "      <th>1197</th>\n",
       "      <td>0.002788</td>\n",
       "      <td>0.042958</td>\n",
       "      <td>0.103110</td>\n",
       "      <td>0.064892</td>\n",
       "    </tr>\n",
       "    <tr>\n",
       "      <th>1198</th>\n",
       "      <td>0.001314</td>\n",
       "      <td>0.027652</td>\n",
       "      <td>0.153608</td>\n",
       "      <td>0.047507</td>\n",
       "    </tr>\n",
       "    <tr>\n",
       "      <th>1199</th>\n",
       "      <td>0.000462</td>\n",
       "      <td>0.013324</td>\n",
       "      <td>0.229555</td>\n",
       "      <td>0.034643</td>\n",
       "    </tr>\n",
       "  </tbody>\n",
       "</table>\n",
       "<p>1200 rows × 4 columns</p>\n",
       "</div>"
      ],
      "text/plain": [
       "           TBR       TAR        DAR       ABR\n",
       "0     0.197590  0.330992  88.041939  0.596963\n",
       "1     0.186993  0.300814  80.778634  0.621626\n",
       "2     0.177465  0.274525  74.475007  0.646445\n",
       "3     0.168891  0.251515  68.981903  0.671494\n",
       "4     0.161217  0.231301  64.181974  0.697001\n",
       "...        ...       ...        ...       ...\n",
       "1195  0.008867  0.072502   0.045332  0.122297\n",
       "1196  0.005156  0.058070   0.068855  0.088785\n",
       "1197  0.002788  0.042958   0.103110  0.064892\n",
       "1198  0.001314  0.027652   0.153608  0.047507\n",
       "1199  0.000462  0.013324   0.229555  0.034643\n",
       "\n",
       "[1200 rows x 4 columns]"
      ]
     },
     "execution_count": 13,
     "metadata": {},
     "output_type": "execute_result"
    }
   ],
   "source": [
    "data= [df.TBR,df.TAR,df.DAR,df.ABR,df.DTABR]\n",
    "headers = [\"TBR\", \"TAR\",\"DAR\",\"ABR\"]\n",
    "ndf = pd.concat(data, axis=1, keys=headers)\n",
    "ndf\n"
   ]
  },
  {
   "cell_type": "code",
   "execution_count": 14,
   "metadata": {},
   "outputs": [],
   "source": [
    "X2=ndf"
   ]
  },
  {
   "cell_type": "code",
   "execution_count": 15,
   "metadata": {},
   "outputs": [],
   "source": [
    "from sklearn.model_selection import train_test_split\n",
    "X2_train,X2_test,y2_train,y2_test=train_test_split(X2,y,test_size=0.3)"
   ]
  },
  {
   "cell_type": "code",
   "execution_count": 16,
   "metadata": {},
   "outputs": [
    {
     "data": {
      "text/plain": [
       "0.5944444444444444"
      ]
     },
     "execution_count": 16,
     "metadata": {},
     "output_type": "execute_result"
    }
   ],
   "source": [
    "#SVM Classifier\n",
    "model2.fit(X_train,y_train)\n",
    "model2.score(X_test,y_test)"
   ]
  },
  {
   "cell_type": "code",
   "execution_count": 17,
   "metadata": {},
   "outputs": [
    {
     "name": "stderr",
     "output_type": "stream",
     "text": [
      "C:\\Users\\RAIAN\\anaconda3\\lib\\site-packages\\sklearn\\linear_model\\_logistic.py:762: ConvergenceWarning: lbfgs failed to converge (status=1):\n",
      "STOP: TOTAL NO. of ITERATIONS REACHED LIMIT.\n",
      "\n",
      "Increase the number of iterations (max_iter) or scale the data as shown in:\n",
      "    https://scikit-learn.org/stable/modules/preprocessing.html\n",
      "Please also refer to the documentation for alternative solver options:\n",
      "    https://scikit-learn.org/stable/modules/linear_model.html#logistic-regression\n",
      "  n_iter_i = _check_optimize_result(\n"
     ]
    },
    {
     "data": {
      "text/plain": [
       "0.5944444444444444"
      ]
     },
     "execution_count": 17,
     "metadata": {},
     "output_type": "execute_result"
    }
   ],
   "source": [
    "#Logistic Regression\n",
    "model3.fit(X_train,y_train)\n",
    "model3.score(X_test,y_test)"
   ]
  },
  {
   "cell_type": "code",
   "execution_count": 18,
   "metadata": {},
   "outputs": [
    {
     "data": {
      "text/plain": [
       "0.7638888888888888"
      ]
     },
     "execution_count": 18,
     "metadata": {},
     "output_type": "execute_result"
    }
   ],
   "source": [
    "#Random Forest Classifier\n",
    "model4.fit(X_train,y_train)\n",
    "model4.score(X_test,y_test)"
   ]
  },
  {
   "cell_type": "code",
   "execution_count": null,
   "metadata": {},
   "outputs": [],
   "source": []
  },
  {
   "cell_type": "code",
   "execution_count": null,
   "metadata": {},
   "outputs": [],
   "source": []
  }
 ],
 "metadata": {
  "kernelspec": {
   "display_name": "Python 3",
   "language": "python",
   "name": "python3"
  },
  "language_info": {
   "codemirror_mode": {
    "name": "ipython",
    "version": 3
   },
   "file_extension": ".py",
   "mimetype": "text/x-python",
   "name": "python",
   "nbconvert_exporter": "python",
   "pygments_lexer": "ipython3",
   "version": "3.8.3"
  }
 },
 "nbformat": 4,
 "nbformat_minor": 4
}
